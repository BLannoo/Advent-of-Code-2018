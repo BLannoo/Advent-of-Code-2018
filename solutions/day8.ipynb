{
 "cells": [
  {
   "cell_type": "code",
   "execution_count": 1,
   "metadata": {},
   "outputs": [],
   "source": [
    "class Node:\n",
    "    def __init__(self, metadata=[], children=[]):\n",
    "        self.__children = children\n",
    "        self.__metadata = metadata\n",
    "       \n",
    "    def size(self):\n",
    "        return (\n",
    "            2 \n",
    "            + sum([child.size() for child in self.__children]) \n",
    "            + len(self.__metadata)\n",
    "        )\n",
    "    \n",
    "    def check_sum(self):\n",
    "        return (\n",
    "            sum(self.__metadata)\n",
    "            + sum([child.check_sum() for child in self.__children])\n",
    "        )\n",
    "    \n",
    "    def check_sum_2(self):\n",
    "        if len(self.__children) == 0:\n",
    "            return sum(self.__metadata)\n",
    "        else:\n",
    "            return sum([\n",
    "                self.__children[metadata-1].check_sum_2()\n",
    "                for metadata in self.__metadata\n",
    "                if metadata > 0 and metadata <= len(self.__children)\n",
    "            ])\n",
    "    \n",
    "    def __repr_with_indent__(self, indents):\n",
    "        return (\n",
    "            '    '*indents + 'Node(\\n'\n",
    "            + '    '*indents + '    metadata=' + str(self.__metadata) + ',\\n'\n",
    "            + '    '*indents + '    children=[\\n' \n",
    "            + '    '*indents + ',\\n'.join(\n",
    "                [\n",
    "                    child.__repr_with_indent__(indents+2)\n",
    "                    for child in self.__children\n",
    "                ]\n",
    "            ) + '\\n'\n",
    "            + '    '*indents + '    ]\\n'\n",
    "            + '    '*indents + ')'\n",
    "        )\n",
    "    \n",
    "    def __repr__(self):\n",
    "        return self.__repr_with_indent__(0)\n",
    "\n",
    "def scan(input):\n",
    "    return [int(digit) for digit in input.split(' ')]"
   ]
  },
  {
   "cell_type": "code",
   "execution_count": 2,
   "metadata": {},
   "outputs": [],
   "source": [
    "def size_children(children):\n",
    "    return sum([child.size() for child in children])\n",
    "\n",
    "def create(input):\n",
    "    n_children = input[0]\n",
    "    n_meta = input[1]\n",
    "    if n_children == 0:\n",
    "        return Node(metadata=input[2:2+n_meta])\n",
    "    else:\n",
    "        children = list([])\n",
    "        for i in range(n_children):\n",
    "            children.append(create(input[2 + size_children(children):]))\n",
    "        return Node(\n",
    "            metadata=input[\n",
    "                2 + size_children(children)\n",
    "                :\n",
    "                2 + size_children(children) + n_meta\n",
    "            ],\n",
    "            children=children\n",
    "        )\n"
   ]
  },
  {
   "cell_type": "code",
   "execution_count": 3,
   "metadata": {},
   "outputs": [
    {
     "name": "stdout",
     "output_type": "stream",
     "text": [
      "Node(\n",
      "    metadata=[1, 1, 2],\n",
      "    children=[\n",
      "        Node(\n",
      "            metadata=[10, 11, 12],\n",
      "            children=[\n",
      "        \n",
      "            ]\n",
      "        ),\n",
      "        Node(\n",
      "            metadata=[2],\n",
      "            children=[\n",
      "                        Node(\n",
      "                    metadata=[99],\n",
      "                    children=[\n",
      "                \n",
      "                    ]\n",
      "                )\n",
      "            ]\n",
      "        )\n",
      "    ]\n",
      ")\n",
      "138\n",
      "66\n"
     ]
    }
   ],
   "source": [
    "example_tree = create(scan('2 3 0 3 10 11 12 1 1 0 1 99 2 1 1 2'))\n",
    "\n",
    "print(example_tree)\n",
    "\n",
    "print(example_tree.check_sum())\n",
    "\n",
    "print(example_tree.check_sum_2())"
   ]
  },
  {
   "cell_type": "code",
   "execution_count": 4,
   "metadata": {},
   "outputs": [
    {
     "name": "stdout",
     "output_type": "stream",
     "text": [
      "38780\n",
      "18232\n"
     ]
    }
   ],
   "source": [
    "with open('../data/day8.txt', 'r') as license_file:\n",
    "    tree = create(scan(license_file.readline()))\n",
    "    \n",
    "    print(tree.check_sum())\n",
    "    print(tree.check_sum_2())"
   ]
  },
  {
   "cell_type": "code",
   "execution_count": null,
   "metadata": {},
   "outputs": [],
   "source": []
  }
 ],
 "metadata": {
  "kernelspec": {
   "display_name": "Python 3",
   "language": "python",
   "name": "python3"
  },
  "language_info": {
   "codemirror_mode": {
    "name": "ipython",
    "version": 3
   },
   "file_extension": ".py",
   "mimetype": "text/x-python",
   "name": "python",
   "nbconvert_exporter": "python",
   "pygments_lexer": "ipython3",
   "version": "3.6.4"
  }
 },
 "nbformat": 4,
 "nbformat_minor": 2
}
