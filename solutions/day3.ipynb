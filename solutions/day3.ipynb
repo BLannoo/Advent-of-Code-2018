{
 "cells": [
  {
   "cell_type": "code",
   "execution_count": 1,
   "metadata": {},
   "outputs": [],
   "source": [
    "import numpy as np\n",
    "import re\n",
    "import collections\n",
    "\n",
    "import utils.utils as utils"
   ]
  },
  {
   "cell_type": "code",
   "execution_count": 2,
   "metadata": {},
   "outputs": [],
   "source": [
    "data = utils.load_data_for_day(3)"
   ]
  },
  {
   "cell_type": "code",
   "execution_count": 3,
   "metadata": {},
   "outputs": [],
   "source": [
    "class Claim:\n",
    "    def __init__(self, claim_string):\n",
    "        groups = re.search('#(\\d*) @ (\\d*),(\\d*): (\\d*)x(\\d*)', claim_string)\n",
    "        self.id = int(groups.group(1))\n",
    "        self.left = int(groups.group(2))\n",
    "        self.top = int(groups.group(3))\n",
    "        self.wide = int(groups.group(4))\n",
    "        self.high = int(groups.group(5))\n",
    "\n",
    "    def __repr__(self):\n",
    "        return (\n",
    "            'Claim(\"#' + str(self.id)\n",
    "            + ' @ ' + str(self.left)\n",
    "            + ',' + str(self.top)\n",
    "            + ': ' + str(self.wide)\n",
    "            + 'x' + str(self.high)\n",
    "            + '\")'\n",
    "        )\n",
    "\n",
    "class Fabric:\n",
    "    def __init__(self, size):\n",
    "        self.fabric = np.zeros((size, size))\n",
    "        \n",
    "    def claim(self, claim):\n",
    "        for x in range(claim.left, claim.left + claim.wide):\n",
    "            for y in range(claim.top, claim.top + claim.high):\n",
    "                self.fabric[x][y] += 1\n",
    "        \n",
    "    def check_claim(self, claim):\n",
    "        overlaps = False\n",
    "        for x in range(claim.left, claim.left + claim.wide):\n",
    "            for y in range(claim.top, claim.top + claim.high):\n",
    "                if self.fabric[x][y] > 1:\n",
    "                    overlaps = True\n",
    "        return overlaps\n",
    "        \n",
    "    def count_multiples(self):\n",
    "        n = 0\n",
    "        for x in range(0, self.fabric.shape[0]):\n",
    "            for y in range(0, self.fabric.shape[1]):\n",
    "                if self.fabric[y][x] > 1:\n",
    "                    n += 1\n",
    "        return n\n",
    "        \n",
    "    def __repr__(self):\n",
    "        s = ''\n",
    "        for x in range(0, self.fabric.shape[0]):\n",
    "            for y in range(0, self.fabric.shape[1]):\n",
    "                s += str(int(self.fabric[y][x]))\n",
    "            s += '\\n'\n",
    "        return s"
   ]
  },
  {
   "cell_type": "code",
   "execution_count": 4,
   "metadata": {},
   "outputs": [
    {
     "name": "stdout",
     "output_type": "stream",
     "text": [
      "Fabric:\n",
      "0000000000\n",
      "0000000000\n",
      "0000000000\n",
      "0000000000\n",
      "0000000000\n",
      "0000000000\n",
      "0000000000\n",
      "0000000000\n",
      "0000000000\n",
      "0000000000\n",
      "\n",
      "Claim: Claim(\"#123 @ 3,2: 5x4\")\n",
      "\n",
      "Fabric:\n",
      "0000000000\n",
      "0000000000\n",
      "0001111100\n",
      "0001111100\n",
      "0001111100\n",
      "0001111100\n",
      "0000000000\n",
      "0000000000\n",
      "0000000000\n",
      "0000000000\n",
      "\n"
     ]
    }
   ],
   "source": [
    "fabric = Fabric(10)\n",
    "\n",
    "print('Fabric:\\n' + str(fabric))\n",
    "\n",
    "claim = Claim('#123 @ 3,2: 5x4')\n",
    "\n",
    "print('Claim: ' + str(claim))\n",
    "\n",
    "fabric.claim(claim)\n",
    "\n",
    "print('\\nFabric:\\n' + str(fabric))"
   ]
  },
  {
   "cell_type": "code",
   "execution_count": 5,
   "metadata": {},
   "outputs": [
    {
     "name": "stdout",
     "output_type": "stream",
     "text": [
      "Claim(\"#1254 @ 760,638: 21x17\")\n"
     ]
    }
   ],
   "source": [
    "fabric = Fabric(1000)\n",
    "\n",
    "for claim_string in data:\n",
    "    claim = Claim(claim_string)\n",
    "    fabric.claim(claim)\n",
    "\n",
    "for claim_string in data:\n",
    "    claim = Claim(claim_string)\n",
    "    if not fabric.check_claim(claim):\n",
    "        print(claim)"
   ]
  },
  {
   "cell_type": "code",
   "execution_count": 6,
   "metadata": {},
   "outputs": [
    {
     "data": {
      "text/plain": [
       "117505"
      ]
     },
     "execution_count": 6,
     "metadata": {},
     "output_type": "execute_result"
    }
   ],
   "source": [
    "fabric.count_multiples()"
   ]
  },
  {
   "cell_type": "code",
   "execution_count": null,
   "metadata": {},
   "outputs": [],
   "source": []
  }
 ],
 "metadata": {
  "kernelspec": {
   "display_name": "Python 3",
   "language": "python",
   "name": "python3"
  },
  "language_info": {
   "codemirror_mode": {
    "name": "ipython",
    "version": 3
   },
   "file_extension": ".py",
   "mimetype": "text/x-python",
   "name": "python",
   "nbconvert_exporter": "python",
   "pygments_lexer": "ipython3",
   "version": "3.6.4"
  }
 },
 "nbformat": 4,
 "nbformat_minor": 2
}
