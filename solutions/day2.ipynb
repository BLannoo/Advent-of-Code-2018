{
 "cells": [
  {
   "cell_type": "code",
   "execution_count": 1,
   "metadata": {},
   "outputs": [],
   "source": [
    "import utils.utils as utils\n",
    "\n",
    "data = utils.load_data_for_day(2)"
   ]
  },
  {
   "cell_type": "code",
   "execution_count": 2,
   "metadata": {},
   "outputs": [
    {
     "name": "stdout",
     "output_type": "stream",
     "text": [
      "6225\n"
     ]
    }
   ],
   "source": [
    "from collections import Counter\n",
    "\n",
    "def check_for_multiples(text):\n",
    "    counts = Counter(text)\n",
    "    contains_double = False\n",
    "    contains_tripple = False\n",
    "    for _,count in dict(counts).items():\n",
    "        if count == 2:\n",
    "            contains_double = True\n",
    "        if count == 3:\n",
    "            contains_tripple = True\n",
    "    return (contains_double, contains_tripple)\n",
    "\n",
    "count_doubles = 0\n",
    "count_tripples = 0\n",
    "\n",
    "for line in data:\n",
    "    (contains_double, contains_tripple) = check_for_multiples(line)\n",
    "    if contains_double:\n",
    "        count_doubles += 1\n",
    "    if contains_tripple:\n",
    "        count_tripples += 1\n",
    "            \n",
    "print(count_doubles * count_tripples)"
   ]
  },
  {
   "cell_type": "code",
   "execution_count": 3,
   "metadata": {},
   "outputs": [
    {
     "data": {
      "text/plain": [
       "'revtaubfniyhsgxdoajwkqilp'"
      ]
     },
     "execution_count": 3,
     "metadata": {},
     "output_type": "execute_result"
    }
   ],
   "source": [
    "def find_similar_lines(data):\n",
    "    for line1 in data:\n",
    "        for line2 in data:\n",
    "            number_of_differences = 0\n",
    "            for position in range(0, len(line1)):\n",
    "                if line1[position] != line2[position]:\n",
    "                    number_of_differences += 1\n",
    "            if number_of_differences == 1:\n",
    "                return (line1 , line2)\n",
    "            \n",
    "(line1, line2) = find_similar_lines(data)\n",
    "\n",
    "solution = \"\"\n",
    "\n",
    "for position in range(0, len(line1)):\n",
    "    if line1[position] == line2[position]:\n",
    "        solution += line1[position]\n",
    "        \n",
    "solution"
   ]
  }
 ],
 "metadata": {
  "kernelspec": {
   "display_name": "Python 3",
   "language": "python",
   "name": "python3"
  },
  "language_info": {
   "codemirror_mode": {
    "name": "ipython",
    "version": 3
   },
   "file_extension": ".py",
   "mimetype": "text/x-python",
   "name": "python",
   "nbconvert_exporter": "python",
   "pygments_lexer": "ipython3",
   "version": "3.6.4"
  }
 },
 "nbformat": 4,
 "nbformat_minor": 1
}
