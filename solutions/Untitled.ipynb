{
 "cells": [
  {
   "cell_type": "code",
   "execution_count": 1,
   "metadata": {},
   "outputs": [],
   "source": [
    "import string"
   ]
  },
  {
   "cell_type": "code",
   "execution_count": 2,
   "metadata": {},
   "outputs": [],
   "source": [
    "def shrink(polymer):\n",
    "    polymer_len = len(polymer)\n",
    "    schrinking = True\n",
    "    while schrinking:\n",
    "        for letter in string.ascii_lowercase:\n",
    "            polymer = polymer.replace(letter + letter.upper(), '')\n",
    "            polymer = polymer.replace(letter.upper() + letter, '')\n",
    "        if polymer_len == len(polymer):\n",
    "            schrinking = False\n",
    "        polymer_len = len(polymer)\n",
    "    \n",
    "    return polymer_len"
   ]
  },
  {
   "cell_type": "code",
   "execution_count": 3,
   "metadata": {},
   "outputs": [
    {
     "name": "stdout",
     "output_type": "stream",
     "text": [
      "10972\n"
     ]
    }
   ],
   "source": [
    "with open('../data/day5.txt', 'r') as polymer_file:\n",
    "    polymer = polymer_file.readline()\n",
    "    print(shrink(polymer))"
   ]
  },
  {
   "cell_type": "code",
   "execution_count": 4,
   "metadata": {},
   "outputs": [
    {
     "name": "stdout",
     "output_type": "stream",
     "text": [
      "5278\n",
      "CPU times: user 4.28 s, sys: 14.6 ms, total: 4.3 s\n",
      "Wall time: 4.31 s\n"
     ]
    }
   ],
   "source": [
    "%%time\n",
    "\n",
    "with open('../data/day5.txt', 'r') as polymer_file:\n",
    "    polymer = polymer_file.readline()\n",
    "    filtered_polymer_lengths = {}\n",
    "    for letter in string.ascii_lowercase:\n",
    "        polymer_filtered = polymer.replace(letter, '')\n",
    "        polymer_filtered = polymer_filtered.replace(letter.upper(), '')\n",
    "        filtered_polymer_lengths[letter] = shrink(polymer_filtered)\n",
    "    \n",
    "    (problem, length) = min(filtered_polymer_lengths.items(), key=lambda p: p[1])\n",
    "    print(length)"
   ]
  },
  {
   "cell_type": "code",
   "execution_count": null,
   "metadata": {},
   "outputs": [],
   "source": []
  }
 ],
 "metadata": {
  "kernelspec": {
   "display_name": "Python 3",
   "language": "python",
   "name": "python3"
  },
  "language_info": {
   "codemirror_mode": {
    "name": "ipython",
    "version": 3
   },
   "file_extension": ".py",
   "mimetype": "text/x-python",
   "name": "python",
   "nbconvert_exporter": "python",
   "pygments_lexer": "ipython3",
   "version": "3.6.4"
  }
 },
 "nbformat": 4,
 "nbformat_minor": 2
}
