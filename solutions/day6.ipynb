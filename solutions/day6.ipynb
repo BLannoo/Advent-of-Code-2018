{
 "cells": [
  {
   "cell_type": "code",
   "execution_count": 1,
   "metadata": {},
   "outputs": [],
   "source": [
    "import re\n",
    "import collections\n",
    "\n",
    "import numpy as np\n",
    "\n",
    "import utils.utils as utils"
   ]
  },
  {
   "cell_type": "code",
   "execution_count": 2,
   "metadata": {},
   "outputs": [],
   "source": [
    "data = utils.load_data_for_day(6)"
   ]
  },
  {
   "cell_type": "code",
   "execution_count": 3,
   "metadata": {},
   "outputs": [],
   "source": [
    "class Location:\n",
    "    def __init__(self, x, y, id=None):\n",
    "        self.x = x\n",
    "        self.y = y\n",
    "        self.id = id\n",
    "        \n",
    "    def dist(self, other):\n",
    "        return abs(self.x - other.x) + abs(self.y - other.y)\n",
    "        \n",
    "    def __repr__(self):\n",
    "        return (\n",
    "            'Location(x=' + str(self.x)\n",
    "            + ', y=' + str(self.y) \n",
    "            + ', id=' + str(self.id)\n",
    "            + ')'\n",
    "        )"
   ]
  },
  {
   "cell_type": "code",
   "execution_count": 4,
   "metadata": {},
   "outputs": [
    {
     "name": "stdout",
     "output_type": "stream",
     "text": [
      "loc1=Location(x=0, y=0, id=None); loc2=Location(x=2, y=3, id=None); dist=5\n",
      "loc1=Location(x=5, y=7, id=None); loc2=Location(x=2, y=3, id=None); dist=7\n"
     ]
    }
   ],
   "source": [
    "def test_dist(loc1, loc2):\n",
    "    print(\n",
    "        'loc1=' + str(loc1) \n",
    "        + '; loc2=' + str(loc2)\n",
    "        + '; dist=' + str(loc1.dist(loc2)))\n",
    "    \n",
    "test_dist(Location(0, 0), Location(2, 3))\n",
    "test_dist(Location(5, 7), Location(2, 3))"
   ]
  },
  {
   "cell_type": "code",
   "execution_count": 5,
   "metadata": {},
   "outputs": [],
   "source": [
    "locations = [\n",
    "    Location(int(match.group(1)), int(match.group(2)), idx)\n",
    "    for idx, match in enumerate([\n",
    "        re.search('(\\d*), (\\d*)', line) \n",
    "        for line in data\n",
    "    ])\n",
    "]"
   ]
  },
  {
   "cell_type": "code",
   "execution_count": 6,
   "metadata": {},
   "outputs": [],
   "source": [
    "def determine_distances_to(location, locations):\n",
    "    distances = {}\n",
    "    for loc in locations:\n",
    "        distances[loc.id] = loc.dist(location)\n",
    "    return distances\n",
    "\n",
    "def find_closest(location, locations):\n",
    "    distances = determine_distances_to(location, locations)\n",
    "    min_distance = min(distances.values())\n",
    "    ids = [\n",
    "        id \n",
    "        for id,distance \n",
    "        in distances.items() \n",
    "        if (distance == min_distance)\n",
    "    ]\n",
    "    if len(ids) == 1:\n",
    "        return ids[0]\n",
    "    else:\n",
    "        return None"
   ]
  },
  {
   "cell_type": "code",
   "execution_count": 18,
   "metadata": {},
   "outputs": [
    {
     "name": "stdout",
     "output_type": "stream",
     "text": [
      "3251\n",
      "CPU times: user 4.08 s, sys: 12.9 ms, total: 4.1 s\n",
      "Wall time: 4.1 s\n"
     ]
    }
   ],
   "source": [
    "%%time\n",
    "\n",
    "SIZE = 350\n",
    "\n",
    "areas = collections.defaultdict(int)\n",
    "borders = set([])\n",
    "\n",
    "for x in range(SIZE):\n",
    "    for y in range(SIZE):\n",
    "        location = Location(x, y)\n",
    "        id = find_closest(location, locations)\n",
    "        areas[id] += 1\n",
    "        if x == 0 or x == SIZE-1 or y == 0 or y == SIZE-1:\n",
    "            borders.add(id)\n",
    "\n",
    "finite_areas = {\n",
    "    id: size\n",
    "    for (id, size) in areas.items()\n",
    "    if (id not in borders)\n",
    "}\n",
    "\n",
    "print(max(finite_areas.values()))"
   ]
  },
  {
   "cell_type": "code",
   "execution_count": 23,
   "metadata": {},
   "outputs": [
    {
     "name": "stdout",
     "output_type": "stream",
     "text": [
      "47841\n",
      "CPU times: user 3.54 s, sys: 6.15 ms, total: 3.54 s\n",
      "Wall time: 3.54 s\n"
     ]
    }
   ],
   "source": [
    "%%time\n",
    "\n",
    "SIZE = 350\n",
    "MAX_DISTANCE = 10000\n",
    "\n",
    "area = 0\n",
    "\n",
    "for x in range(SIZE):\n",
    "    for y in range(SIZE):\n",
    "        location = Location(x, y)\n",
    "        distances = determine_distances_to(location, locations)\n",
    "        if MAX_DISTANCE > sum(distances.values()):\n",
    "            area += 1\n",
    "            \n",
    "print(area)"
   ]
  },
  {
   "cell_type": "code",
   "execution_count": null,
   "metadata": {},
   "outputs": [],
   "source": []
  },
  {
   "cell_type": "code",
   "execution_count": null,
   "metadata": {},
   "outputs": [],
   "source": []
  }
 ],
 "metadata": {
  "kernelspec": {
   "display_name": "Python 3",
   "language": "python",
   "name": "python3"
  },
  "language_info": {
   "codemirror_mode": {
    "name": "ipython",
    "version": 3
   },
   "file_extension": ".py",
   "mimetype": "text/x-python",
   "name": "python",
   "nbconvert_exporter": "python",
   "pygments_lexer": "ipython3",
   "version": "3.6.4"
  }
 },
 "nbformat": 4,
 "nbformat_minor": 2
}
