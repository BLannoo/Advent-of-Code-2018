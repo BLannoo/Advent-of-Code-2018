{
 "cells": [
  {
   "cell_type": "code",
   "execution_count": 1,
   "metadata": {},
   "outputs": [],
   "source": [
    "import utils.utils as utils\n",
    "\n",
    "data = utils.load_data_for_day(1)"
   ]
  },
  {
   "cell_type": "code",
   "execution_count": 2,
   "metadata": {},
   "outputs": [
    {
     "name": "stdout",
     "output_type": "stream",
     "text": [
      "578\n"
     ]
    }
   ],
   "source": [
    "total = 0\n",
    "for line in data:\n",
    "    total += int(line)\n",
    "print(total)"
   ]
  },
  {
   "cell_type": "code",
   "execution_count": 3,
   "metadata": {},
   "outputs": [
    {
     "name": "stdout",
     "output_type": "stream",
     "text": [
      "82516\n"
     ]
    }
   ],
   "source": [
    "def find_repitition(data):\n",
    "    total = 0\n",
    "    reached = set([0])\n",
    "    for i in range(0, 200):\n",
    "        for line in data:\n",
    "            total += int(line)\n",
    "            if total in reached:\n",
    "                return total\n",
    "\n",
    "            reached.add(total)\n",
    "\n",
    "    print('No frequency reached twice')\n",
    "    \n",
    "print(find_repitition(data))"
   ]
  }
 ],
 "metadata": {
  "kernelspec": {
   "display_name": "Python 3",
   "language": "python",
   "name": "python3"
  },
  "language_info": {
   "codemirror_mode": {
    "name": "ipython",
    "version": 3
   },
   "file_extension": ".py",
   "mimetype": "text/x-python",
   "name": "python",
   "nbconvert_exporter": "python",
   "pygments_lexer": "ipython3",
   "version": "3.6.4"
  }
 },
 "nbformat": 4,
 "nbformat_minor": 2
}
