{
 "cells": [
  {
   "cell_type": "code",
   "execution_count": 1,
   "metadata": {},
   "outputs": [
    {
     "name": "stdout",
     "output_type": "stream",
     "text": [
      "578\n"
     ]
    }
   ],
   "source": [
    "with open('../data/day1.txt', 'r') as data:\n",
    "    total = 0\n",
    "    for line in data:\n",
    "        total += int(line)\n",
    "    print(total)"
   ]
  },
  {
   "cell_type": "code",
   "execution_count": 2,
   "metadata": {},
   "outputs": [
    {
     "name": "stdout",
     "output_type": "stream",
     "text": [
      "82516\n"
     ]
    }
   ],
   "source": [
    "def find_repitition():\n",
    "    total = 0\n",
    "    reached = set([0])\n",
    "    for i in range(0, 200):\n",
    "        with open('../data/day1.txt', 'r') as data:\n",
    "            for line in data:\n",
    "                total += int(line)\n",
    "                if total in reached:\n",
    "                    return total\n",
    "                    \n",
    "                reached.add(total)\n",
    "\n",
    "    print('No frequency reached twice')\n",
    "    \n",
    "print(find_repitition())"
   ]
  }
 ],
 "metadata": {
  "kernelspec": {
   "display_name": "Python 3",
   "language": "python",
   "name": "python3"
  },
  "language_info": {
   "codemirror_mode": {
    "name": "ipython",
    "version": 3
   },
   "file_extension": ".py",
   "mimetype": "text/x-python",
   "name": "python",
   "nbconvert_exporter": "python",
   "pygments_lexer": "ipython3",
   "version": "3.6.4"
  }
 },
 "nbformat": 4,
 "nbformat_minor": 2
}
