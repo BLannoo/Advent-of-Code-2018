{
 "cells": [
  {
   "cell_type": "code",
   "execution_count": 1,
   "metadata": {},
   "outputs": [],
   "source": [
    "import re\n",
    "\n",
    "import utils.utils as utils"
   ]
  },
  {
   "cell_type": "code",
   "execution_count": 2,
   "metadata": {},
   "outputs": [],
   "source": [
    "data = utils.load_data_for_day(4)"
   ]
  },
  {
   "cell_type": "code",
   "execution_count": 3,
   "metadata": {},
   "outputs": [],
   "source": [
    "data.sort()\n",
    "\n",
    "time_re = '\\[\\d{4}-\\d{2}-\\d{2} (\\d{2}):(\\d{2})\\]'\n",
    "\n",
    "sleep_sessions_by_guard = {}\n",
    "\n",
    "for log in data:\n",
    "    \n",
    "    begin_shift = re.search(time_re + ' Guard #(\\d*) begins shift', log)\n",
    "    if begin_shift:\n",
    "        current_guard = int(begin_shift.group(3))\n",
    "        last_log_time = int(begin_shift.group(2))\n",
    "    \n",
    "    wakes_up = re.search(time_re + ' wakes up', log)\n",
    "    if wakes_up:\n",
    "        new_log_time = int(wakes_up.group(2))\n",
    "        if current_guard not in sleep_sessions_by_guard.keys():\n",
    "            sleep_sessions_by_guard[current_guard] = []\n",
    "        sleep_sessions_by_guard[current_guard].append((last_log_time, new_log_time))\n",
    "        last_log_time = new_log_time\n",
    "        \n",
    "    falls_asleep = re.search(time_re + ' falls asleep', log)\n",
    "    if falls_asleep:\n",
    "        last_log_time = int(falls_asleep.group(2))"
   ]
  },
  {
   "cell_type": "code",
   "execution_count": 4,
   "metadata": {},
   "outputs": [
    {
     "name": "stdout",
     "output_type": "stream",
     "text": [
      "521\n"
     ]
    }
   ],
   "source": [
    "max_sleep_duration = 0\n",
    "max_sleep_guard = 0\n",
    "\n",
    "for guard, value in sleep_sessions_by_guard.items():\n",
    "    total_sleep = 0\n",
    "    for sleep_session in value:\n",
    "        total_sleep += sleep_session[1] - sleep_session[0]\n",
    "    if total_sleep > max_sleep_duration:\n",
    "        max_sleep_duration = total_sleep\n",
    "        max_sleep_guard = guard\n",
    "        \n",
    "print(max_sleep_guard)"
   ]
  },
  {
   "cell_type": "code",
   "execution_count": 5,
   "metadata": {},
   "outputs": [
    {
     "name": "stdout",
     "output_type": "stream",
     "text": [
      "{0: 0, 1: 0, 2: 1, 3: 2, 4: 3, 5: 3, 6: 4, 7: 5, 8: 5, 9: 6, 10: 6, 11: 8, 12: 9, 13: 9, 14: 10, 15: 10, 16: 10, 17: 10, 18: 10, 19: 9, 20: 10, 21: 11, 22: 11, 23: 13, 24: 15, 25: 14, 26: 13, 27: 13, 28: 13, 29: 13, 30: 13, 31: 12, 32: 12, 33: 12, 34: 12, 35: 13, 36: 12, 37: 13, 38: 13, 39: 13, 40: 13, 41: 12, 42: 10, 43: 10, 44: 8, 45: 8, 46: 8, 47: 9, 48: 9, 49: 8, 50: 8, 51: 8, 52: 7, 53: 7, 54: 7, 55: 6, 56: 4, 57: 3, 58: 1, 59: 0}\n"
     ]
    }
   ],
   "source": [
    "most_days_slept = {}\n",
    "for m in range(60):\n",
    "    most_days_slept[m] = 0\n",
    "    for sleep_session in sleep_sessions_by_guard[max_sleep_guard]:\n",
    "        if m >= sleep_session[0] and m < sleep_session[1]:\n",
    "            most_days_slept[m] += 1\n",
    "            \n",
    "print(most_days_slept)"
   ]
  },
  {
   "cell_type": "code",
   "execution_count": 6,
   "metadata": {},
   "outputs": [
    {
     "name": "stdout",
     "output_type": "stream",
     "text": [
      "24 15\n"
     ]
    }
   ],
   "source": [
    "(minute, days) = max(most_days_slept.items(), key=lambda m: m[1])\n",
    "\n",
    "print(minute, days)"
   ]
  },
  {
   "cell_type": "code",
   "execution_count": 7,
   "metadata": {},
   "outputs": [
    {
     "data": {
      "text/plain": [
       "12504"
      ]
     },
     "execution_count": 7,
     "metadata": {},
     "output_type": "execute_result"
    }
   ],
   "source": [
    "max_sleep_guard * minute"
   ]
  },
  {
   "cell_type": "code",
   "execution_count": 8,
   "metadata": {},
   "outputs": [
    {
     "data": {
      "text/plain": [
       "139543"
      ]
     },
     "execution_count": 8,
     "metadata": {},
     "output_type": "execute_result"
    }
   ],
   "source": [
    "most_days_slept_on_minute_days = 0\n",
    "most_days_slept_on_minute_guard = 0\n",
    "most_days_slept_on_minute_minute = 0\n",
    "\n",
    "for guard, value in sleep_sessions_by_guard.items():\n",
    "    days_slept_on_hour = {}\n",
    "    for m in range(60):\n",
    "        days_slept_on_hour[m] = 0\n",
    "        for sleep_session in sleep_sessions_by_guard[guard]:\n",
    "            if m >= sleep_session[0] and m < sleep_session[1]:\n",
    "                days_slept_on_hour[m] += 1\n",
    "    (minute, days) = max(days_slept_on_hour.items(), key=lambda m: m[1])\n",
    "    if days > most_days_slept_on_minute_days:\n",
    "        most_days_slept_on_minute_days = days\n",
    "        most_days_slept_on_minute_guard = guard\n",
    "        most_days_slept_on_minute_minute = minute\n",
    "        \n",
    "most_days_slept_on_minute_guard * most_days_slept_on_minute_minute"
   ]
  },
  {
   "cell_type": "code",
   "execution_count": null,
   "metadata": {},
   "outputs": [],
   "source": []
  }
 ],
 "metadata": {
  "kernelspec": {
   "display_name": "Python 3",
   "language": "python",
   "name": "python3"
  },
  "language_info": {
   "codemirror_mode": {
    "name": "ipython",
    "version": 3
   },
   "file_extension": ".py",
   "mimetype": "text/x-python",
   "name": "python",
   "nbconvert_exporter": "python",
   "pygments_lexer": "ipython3",
   "version": "3.6.4"
  }
 },
 "nbformat": 4,
 "nbformat_minor": 2
}
