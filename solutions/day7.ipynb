{
 "cells": [
  {
   "cell_type": "code",
   "execution_count": 1,
   "metadata": {},
   "outputs": [],
   "source": [
    "import re\n",
    "\n",
    "import utils.utils as utils"
   ]
  },
  {
   "cell_type": "code",
   "execution_count": 2,
   "metadata": {},
   "outputs": [],
   "source": [
    "data = utils.load_data_for_day(7)"
   ]
  },
  {
   "cell_type": "code",
   "execution_count": 3,
   "metadata": {},
   "outputs": [],
   "source": [
    "dependencies = list([])\n",
    "\n",
    "for line in data:\n",
    "    match = re.search('Step ([A-Z]) must be finished before step ([A-Z]) can begin.', line)\n",
    "    \n",
    "    dependencies.append((match.group(1), match.group(2)))\n"
   ]
  },
  {
   "cell_type": "code",
   "execution_count": 4,
   "metadata": {},
   "outputs": [],
   "source": [
    "def determine_remaining_steps(dependencies, work_order):\n",
    "    return set(\n",
    "        map(lambda dep: dep[0], dependencies)\n",
    "    ).union(set(\n",
    "        map(lambda dep: dep[1], dependencies)\n",
    "    )).difference(work_order)\n",
    "\n",
    "def find_steps_without_dep(dependencies, work_order):\n",
    "    return list(\n",
    "        determine_remaining_steps(dependencies, work_order)\n",
    "            .difference(\n",
    "                map(lambda dep: dep[1], determine_remaining_dep(dependencies, work_order))\n",
    "            )\n",
    "    )\n",
    "\n",
    "def determine_remaining_dep(dependencies, work_order):\n",
    "    return list(filter(\n",
    "        lambda dep: dep[0] not in work_order, \n",
    "        dependencies\n",
    "    ))\n",
    "\n",
    "def find_next_step(dependencies, work_order):\n",
    "    steps_without_dependencies = find_steps_without_dep(dependencies, work_order)\n",
    "    steps_without_dependencies.sort()\n",
    "    return steps_without_dependencies[0]\n",
    "\n",
    "def determine_last_step(dependencies, work_order):\n",
    "    return list(determine_remaining_steps(dependencies, work_order))[0]"
   ]
  },
  {
   "cell_type": "code",
   "execution_count": 5,
   "metadata": {},
   "outputs": [
    {
     "data": {
      "text/plain": [
       "'ABDCJLFMNVQWHIRKTEUXOZSYPG'"
      ]
     },
     "execution_count": 5,
     "metadata": {},
     "output_type": "execute_result"
    }
   ],
   "source": [
    "work_order = list([])\n",
    "\n",
    "while len(determine_remaining_steps(dependencies, work_order)) > 1:\n",
    "    work_order.append(find_next_step(dependencies, work_order))\n",
    "    \n",
    "''.join(work_order) + str(determine_last_step(dependencies, work_order))"
   ]
  },
  {
   "cell_type": "code",
   "execution_count": 6,
   "metadata": {},
   "outputs": [],
   "source": [
    "NUMBER_OF_WORKERS = 1 + 4\n",
    "BASE_WORK_TIME = 60"
   ]
  },
  {
   "cell_type": "code",
   "execution_count": 7,
   "metadata": {},
   "outputs": [],
   "source": [
    "def determine_duration(step):\n",
    "    return BASE_WORK_TIME + 1 + ord(step) - ord('A')\n",
    "\n",
    "\n",
    "class Worker:\n",
    "    def __init__(self, step=None, ready_time=0):\n",
    "        self.__step = step\n",
    "        self.__ready_time = ready_time\n",
    "    \n",
    "    def will_be_done(self, time):\n",
    "        return self.__ready_time <= time\n",
    "    \n",
    "    def assign(self, step, time):\n",
    "        self.__step = step\n",
    "        self.__ready_time = time + determine_duration(step)\n",
    "        \n",
    "    def step(self):\n",
    "        return self.__step\n",
    "    \n",
    "    def ready_time(self):\n",
    "        return self.__ready_time\n",
    "    \n",
    "    def __repr__(self):\n",
    "        return ('Worker(step=' + str(self.__step)\n",
    "                + ', ready_time=' + str(self.__ready_time) \n",
    "                + ')')\n",
    "\n",
    "    \n",
    "def find_idle_workers(workers, time):\n",
    "    return list(filter(\n",
    "    lambda worker: worker.will_be_done(time),\n",
    "    workers))\n",
    "\n",
    "def steps_being_worked_on(workers):\n",
    "    return set(map(\n",
    "        lambda worker: worker.step(),\n",
    "        workers\n",
    "    ))\n",
    "\n",
    "def assign_steps_to_workers(workers, dependencies, work_done, time):\n",
    "    steps_without_dependencies = find_steps_without_dep(dependencies, work_done)\n",
    "    availlable_steps = list(set(steps_without_dependencies).difference(steps_being_worked_on(workers)))\n",
    "    availlable_steps.sort()\n",
    "    idle = find_idle_workers(workers, time)\n",
    "    [worker.assign(step, time) for worker, step in zip(idle, availlable_steps)]\n",
    "    \n",
    "def find_time_next_finished_step(workers, time):\n",
    "    ready_times = map(\n",
    "        lambda worker: worker.ready_time(),\n",
    "        workers\n",
    "    )\n",
    "    future_ready_times = filter(\n",
    "        lambda ready_time: ready_time > time,\n",
    "        ready_times\n",
    "    )\n",
    "    return min(future_ready_times)\n",
    "\n",
    "def gather_work_done(workers, time):\n",
    "    idle = find_idle_workers(workers, time)\n",
    "    return set(map(\n",
    "        lambda worker: worker.step(),\n",
    "        idle\n",
    "    ))"
   ]
  },
  {
   "cell_type": "code",
   "execution_count": 8,
   "metadata": {},
   "outputs": [
    {
     "name": "stdout",
     "output_type": "stream",
     "text": [
      "A: Worker(step=A, ready_time=61)\n",
      "B: Worker(step=B, ready_time=62)\n",
      "Z: Worker(step=Z, ready_time=86)\n",
      "A: Worker(step=A, ready_time=71)\n"
     ]
    }
   ],
   "source": [
    "def test_assignment(letter, time):\n",
    "    worker = Worker()\n",
    "    worker.assign(letter, time)\n",
    "    print(letter + ': ' + str(worker))\n",
    "\n",
    "test_assignment('A', 0)\n",
    "test_assignment('B', 0)\n",
    "test_assignment('Z', 0)\n",
    "test_assignment('A', 10)"
   ]
  },
  {
   "cell_type": "code",
   "execution_count": 9,
   "metadata": {},
   "outputs": [
    {
     "data": {
      "text/plain": [
       "896"
      ]
     },
     "execution_count": 9,
     "metadata": {},
     "output_type": "execute_result"
    }
   ],
   "source": [
    "work_done = set([])\n",
    "workers = [Worker() for i in range(NUMBER_OF_WORKERS)]\n",
    "time = 0\n",
    "\n",
    "while len(determine_remaining_steps(dependencies, work_done)) > 0:\n",
    "    assign_steps_to_workers(workers, dependencies, work_done, time)\n",
    "    time = find_time_next_finished_step(workers, time)\n",
    "    work_done = work_done.union(gather_work_done(workers, time))\n",
    "    \n",
    "time"
   ]
  }
 ],
 "metadata": {
  "kernelspec": {
   "display_name": "Python 3",
   "language": "python",
   "name": "python3"
  },
  "language_info": {
   "codemirror_mode": {
    "name": "ipython",
    "version": 3
   },
   "file_extension": ".py",
   "mimetype": "text/x-python",
   "name": "python",
   "nbconvert_exporter": "python",
   "pygments_lexer": "ipython3",
   "version": "3.6.4"
  }
 },
 "nbformat": 4,
 "nbformat_minor": 2
}
