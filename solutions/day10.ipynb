{
 "cells": [
  {
   "cell_type": "code",
   "execution_count": 1,
   "metadata": {},
   "outputs": [],
   "source": [
    "import re\n",
    "\n",
    "import numpy as np\n",
    "import matplotlib.pyplot as plt\n",
    "\n",
    "import utils.utils as utils"
   ]
  },
  {
   "cell_type": "code",
   "execution_count": 2,
   "metadata": {},
   "outputs": [],
   "source": [
    "data = utils.load_data_for_day(10)"
   ]
  },
  {
   "cell_type": "code",
   "execution_count": 3,
   "metadata": {},
   "outputs": [],
   "source": [
    "class Point:\n",
    "    def __init__(self, x, y, vx, vy):\n",
    "        self.x = x\n",
    "        self.y = y\n",
    "        self.vx = vx\n",
    "        self.vy = vy\n",
    "        \n",
    "    def update(self, step):\n",
    "        self.x = self.x + self.vx * step\n",
    "        self.y = self.y + self.vy * step\n",
    "        \n",
    "    def __repr__(self):\n",
    "        return (\n",
    "            'Point(x=' + str(self.x)\n",
    "            + ', y=' + str(self.y)\n",
    "            + ', vx=' + str(self.vx)\n",
    "            + ', vy=' + str(self.vy)\n",
    "            + ')'\n",
    "        )"
   ]
  },
  {
   "cell_type": "code",
   "execution_count": 11,
   "metadata": {},
   "outputs": [],
   "source": [
    "points = []\n",
    "\n",
    "for line in data:\n",
    "    match = re.search('position=<(( |-)\\d+), (( |-)\\d+)> velocity=<(( |-)\\d+), (( |-)\\d+)>', line)\n",
    "    points.append(Point(int(match.group(1)), int(match.group(3)), int(match.group(5)), int(match.group(7))))"
   ]
  },
  {
   "cell_type": "code",
   "execution_count": 12,
   "metadata": {},
   "outputs": [],
   "source": [
    "x_list = list(map(lambda point: point.x, points))\n",
    "y_list = list(map(lambda point: point.y, points))"
   ]
  },
  {
   "cell_type": "code",
   "execution_count": 13,
   "metadata": {},
   "outputs": [
    {
     "data": {
      "text/plain": [
       "<matplotlib.collections.PathCollection at 0x11b852668>"
      ]
     },
     "execution_count": 13,
     "metadata": {},
     "output_type": "execute_result"
    },
    {
     "data": {
      "image/png": "[encoded data removed]",
      "text/plain": [
       "<Figure size 432x288 with 1 Axes>"
      ]
     },
     "metadata": {
      "needs_background": "light"
     },
     "output_type": "display_data"
    }
   ],
   "source": [
    "plt.axis('off')\n",
    "plt.scatter(x_list, y_list)"
   ]
  },
  {
   "cell_type": "code",
   "execution_count": 7,
   "metadata": {},
   "outputs": [],
   "source": [
    "for point in points:\n",
    "    point.update(100000)"
   ]
  },
  {
   "cell_type": "code",
   "execution_count": 63,
   "metadata": {},
   "outputs": [],
   "source": []
  },
  {
   "cell_type": "code",
   "execution_count": 18,
   "metadata": {},
   "outputs": [
    {
     "data": {
      "image/png": "[encoded data removed]",
      "text/plain": [
       "<Figure size 432x288 with 1 Axes>"
      ]
     },
     "metadata": {
      "needs_background": "light"
     },
     "output_type": "display_data"
    }
   ],
   "source": [
    "points = []\n",
    "\n",
    "for line in data:\n",
    "    match = re.search('position=<(( |-)\\d+), (( |-)\\d+)> velocity=<(( |-)\\d+), (( |-)\\d+)>', line)\n",
    "    points.append(Point(int(match.group(1)), int(match.group(3)), int(match.group(5)), int(match.group(7))))\n",
    "    \n",
    "for point in points:\n",
    "        point.update(10644) # 10644 + 1\n",
    "\n",
    "for i in range(1):\n",
    "    for point in points:\n",
    "        point.update(1)\n",
    "\n",
    "    x_list = list(map(lambda point: point.x, points))\n",
    "    y_list = list(map(lambda point: point.y, points))\n",
    "\n",
    "    plt.scatter(x_list, [y*-1 for y in y_list], s=30, marker='s')\n",
    "    plt.axis('equal')"
   ]
  },
  {
   "cell_type": "code",
   "execution_count": null,
   "metadata": {},
   "outputs": [],
   "source": []
  },
  {
   "cell_type": "code",
   "execution_count": null,
   "metadata": {},
   "outputs": [],
   "source": []
  }
 ],
 "metadata": {
  "kernelspec": {
   "display_name": "Python 3",
   "language": "python",
   "name": "python3"
  },
  "language_info": {
   "codemirror_mode": {
    "name": "ipython",
    "version": 3
   },
   "file_extension": ".py",
   "mimetype": "text/x-python",
   "name": "python",
   "nbconvert_exporter": "python",
   "pygments_lexer": "ipython3",
   "version": "3.6.4"
  }
 },
 "nbformat": 4,
 "nbformat_minor": 2
}
